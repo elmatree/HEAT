{
 "cells": [
  {
   "cell_type": "code",
   "execution_count": 7,
   "id": "6dacf355-e3c4-4afc-a0f6-61715c18409a",
   "metadata": {
    "tags": []
   },
   "outputs": [],
   "source": [
    "import numpy as np\n",
    "import matplotlib.pyplot as plt\n",
    "from numpy.fft import fft, fftshift, fftfreq\n",
    "import pandas as pd"
   ]
  },
  {
   "cell_type": "markdown",
   "id": "51ae875b-739d-4977-8829-20a19ce5a551",
   "metadata": {},
   "source": [
    "**The next cell contains functions for analyzing data:**\n",
    "- Load the csv of simulation data as a pandas dataframe. Creates arrays of the values in both axes.\n",
    "- plot_data plots the simulation data with the first 200 points truncated, so that the data is fully comprised of a periodic signal.\n",
    "- sub_mean removes the mean value from the truncated data set so that FFT gives the correct result.\n",
    "- plot_FFT plots the FFT of the corrected data. \"Freqs\" is determined by the number of data samples and the time interval between each sample.\n",
    "- m_average gives the moving box average of the dataset, which shows its low-frequency data trend. Changing the window size changes the frequency.\n",
    "- find_time_lag uses cross-correlation to determine the lag between two signals. Compare the ideal heater (sin_heater) to the simulated data. "
   ]
  },
  {
   "cell_type": "code",
   "execution_count": 64,
   "id": "6c62ef05-5adb-4a7b-a263-9caeb7e696ff",
   "metadata": {
    "tags": []
   },
   "outputs": [],
   "source": [
    "#Load the simulation data:\n",
    "#put quotes around the file name when loading!\n",
    "df = pd.read_csv('fiber_point_monitor_30_sec.csv')\n",
    "time_array = df['Physical Time (s)'].values\n",
    "temp_array = df['fiber point 1 Monitor: fiber point 1 Monitor (K)'].values\n",
    "\n",
    "# Plots simulation data, with the jump at the beginning truncated.\n",
    "def plot_data(time_array, temp_array):\n",
    "    plt.figure(figsize = (16, 6))\n",
    "    plt.title('Temperature vs. Time at Fiber Point Monitor', fontsize = 14)\n",
    "    plt.ylabel('Temperature [K]', fontsize = 12)\n",
    "    plt.xlabel('Time [s]', fontsize = 12)\n",
    "    plt.plot(time_array[200:], temp_array[200:], color = 'hotpink')\n",
    "    \n",
    "#Correct the temperature data by removing the mean and the jump:\n",
    "def sub_mean(temp_array):\n",
    "    temp_array = temp_array[200:]\n",
    "    temp_sub_mean = temp_array - np.mean(temp_array)\n",
    "    return temp_sub_mean\n",
    "\n",
    "#Plot the FFT power spectrum of simulation data:\n",
    "def plot_FFT(temp_array):\n",
    "    fft_temp = np.fft.fft(sub_mean(temp_array))\n",
    "    freqs = np.fft.fftfreq(len(fft_temp), 0.01)\n",
    "    pow_temp = np.abs(fft_temp**2)\n",
    "    plt.figure(figsize = (16, 6))\n",
    "    plt.xlabel('Frequency')\n",
    "    plt.ylabel('Temperature [arb.]')\n",
    "    plt.title('FFT of temperature', fontsize = 14)\n",
    "    plt.xlim(-2, 2)  #adjust or comment out for better visibility\n",
    "    plt.plot(fftshift(freqs), fftshift(pow_temp))\n",
    "    \n",
    "#plot moving box average:\n",
    "def m_average(data, window_size): #the frequency of the moving average should get smaller as the window size gets larger\n",
    "    # makes sure that the sum of weights is equal to 1\n",
    "    weights = np.repeat(1.0, window_size) / window_size #defines coefficients for moving avg calculation\n",
    "    moving_avg = np.convolve(sub_mean(data), weights, 'valid')# Use np.convolve to compute the moving average\n",
    "    plt.plot(moving_avg)\n",
    "\n",
    "# Model the ideal sinusoidal heater which ignores amplitude arguments\n",
    "t = np.linspace(0, 30, 3000) #timespan of the simulation in sec\n",
    "sin_heater = np.sin(2*np.pi*(t+0.75))\n",
    "    \n",
    "#Use cross correlation to find time lag: \n",
    "def find_time_lag(signal1, signal2):\n",
    "    cross_corr = np.correlate(signal1, signal2, mode='full')\n",
    "    time_lag = np.argmax(cross_corr) - (len(signal1) - 1)\n",
    "    print(\"Time lag:\", time_lag, 'samples. The temperature measured at the fiber probe \n",
    "          lags the ideal heater by', time_lag * 0.01, 'seconds.')"
   ]
  },
  {
   "cell_type": "code",
   "execution_count": 66,
   "id": "669aac49-3178-41ab-ac13-c79ff49d233a",
   "metadata": {
    "tags": []
   },
   "outputs": [
    {
     "name": "stdout",
     "output_type": "stream",
     "text": [
      "Time lag: 23 samples. The temperature measured at the fiber probe lags the ideal heater by 0.23 seconds.\n"
     ]
    }
   ],
   "source": [
    "find_time_lag(sin_heater, temp_array)"
   ]
  },
  {
   "cell_type": "markdown",
   "id": "9002ffe0-a507-44d1-bbc9-1b7ecfee9ae2",
   "metadata": {},
   "source": [
    "^ check this for accuracy"
   ]
  },
  {
   "cell_type": "code",
   "execution_count": null,
   "id": "cdc98828-8d41-4696-89c8-bbfb9c362811",
   "metadata": {},
   "outputs": [],
   "source": []
  }
 ],
 "metadata": {
  "kernelspec": {
   "display_name": "Python 3 (ipykernel)",
   "language": "python",
   "name": "python3"
  },
  "language_info": {
   "codemirror_mode": {
    "name": "ipython",
    "version": 3
   },
   "file_extension": ".py",
   "mimetype": "text/x-python",
   "name": "python",
   "nbconvert_exporter": "python",
   "pygments_lexer": "ipython3",
   "version": "3.11.5"
  }
 },
 "nbformat": 4,
 "nbformat_minor": 5
}
